{
 "cells": [
  {
   "cell_type": "markdown",
   "metadata": {},
   "source": [
    "# 驗證 `model_complexity` 的運算問題"
   ]
  },
  {
   "cell_type": "code",
   "execution_count": 1,
   "metadata": {},
   "outputs": [],
   "source": [
    "from model_complexity import compute_model_complexity\n",
    "from torch import nn\n",
    "from torch.nn import functional as F\n",
    "\n",
    "class build_model(nn.Module):\n",
    "    def __init__(self):\n",
    "        super(build_model, self).__init__()\n",
    "        \n",
    "        self.conv1 = nn.Conv2d(in_channels=1024, out_channels=256, \n",
    "                              kernel_size=1, stride=1, padding=0,\n",
    "                              bias=True)\n",
    "        self.bn1 = nn.BatchNorm2d(256)\n",
    "        self.relu1 = nn.ReLU(inplace=True)\n",
    "        \n",
    "        self.conv2 = nn.Conv2d(in_channels=256, out_channels=256,\n",
    "                              kernel_size=3, stride=1, padding=1,\n",
    "                              bias=True)\n",
    "        self.bn2 = nn.BatchNorm2d(256)\n",
    "        \n",
    "        self.conv3 = nn.Conv2d(in_channels=256, out_channels=1024,\n",
    "                              kernel_size=1, stride=1, padding=0,\n",
    "                              bias=True)\n",
    "        self.bn3 = nn.BatchNorm2d(1024)\n",
    "        \n",
    "    def forward(self, x):\n",
    "        \n",
    "        out = self.conv1(x)\n",
    "        out = self.bn1(out)\n",
    "        out = self.relu1(out)\n",
    "        \n",
    "        out = self.conv2(out)\n",
    "        out = self.bn2(out)\n",
    "        out = self.relu1(out)\n",
    "        \n",
    "        out = self.conv3(out)\n",
    "        out = self.bn3(out)\n",
    "        out = self.relu1(out)\n",
    "        \n",
    "        return out"
   ]
  },
  {
   "cell_type": "code",
   "execution_count": 2,
   "metadata": {},
   "outputs": [
    {
     "name": "stdout",
     "output_type": "stream",
     "text": [
      "  -------------------------------------------------------\n",
      "  Model complexity with input size torch.Size([1, 1024, 16, 8])\n",
      "  -------------------------------------------------------\n",
      "  Conv2d (params=1,115,648, flops=142,802,944)\n",
      "  BatchNorm2d (params=3,072, flops=0)\n",
      "  ReLU (params=0, flops=0)\n",
      "  -------------------------------------------------------\n",
      "  Total (params=1,118,720, flops=142,802,944)\n",
      "  -------------------------------------------------------\n"
     ]
    }
   ],
   "source": [
    "import torch\n",
    "from torchvision import models\n",
    "\n",
    "model = build_model()\n",
    "x = torch.randn(1, 1024, 16, 8)\n",
    "num_params, flops = compute_model_complexity(model, x.size(), verbose=True)\n",
    "s = model(x)"
   ]
  },
  {
   "cell_type": "code",
   "execution_count": 3,
   "metadata": {},
   "outputs": [
    {
     "name": "stdout",
     "output_type": "stream",
     "text": [
      "Build 0 layer mutual spatial attention!\n",
      "Build 0 layer mutual channel attention!\n",
      "  -------------------------------------------------------\n",
      "  Model complexity with input size (1, 2, 1024, 16, 8)\n",
      "  -------------------------------------------------------\n",
      "  Conv2d (params=393,728, flops=83,951,616)\n",
      "  BatchNorm2d (params=1,540, flops=0)\n",
      "  ReLU (params=0, flops=0)\n",
      "  Conv1d (params=131,072, flops=262,144)\n",
      "  Linear (params=329,984, flops=329,984)\n",
      "  Sigmoid (params=0, flops=0)\n",
      "  -------------------------------------------------------\n",
      "  Total (params=856,324, flops=84,543,744)\n",
      "  -------------------------------------------------------\n"
     ]
    }
   ],
   "source": [
    "from models.AATM import AATM\n",
    "from models.SRAG import SRAG\n",
    "from models.TRAG import TRAG\n",
    "\n",
    "model = TRAG(inplanes=1024,\n",
    "            is_mutual_channel_attention='yes',\n",
    "            is_mutual_spatial_attention='yes',\n",
    "            num='0')\n",
    "params, flops = compute_model_complexity(model, (1, 2, 1024, 16, 8), verbose=True)\n"
   ]
  },
  {
   "cell_type": "code",
   "execution_count": 15,
   "metadata": {},
   "outputs": [],
   "source": [
    "conv = nn.Conv2d(in_channels=10, out_channels=12, kernel_size=1, stride=1, padding=0)\n",
    "input = torch.randn(1, 10, 3, 3)\n",
    "from thop import profile"
   ]
  },
  {
   "cell_type": "code",
   "execution_count": 19,
   "metadata": {},
   "outputs": [
    {
     "name": "stdout",
     "output_type": "stream",
     "text": [
      "[INFO] Register count_convNd() for <class 'torch.nn.modules.conv.Conv2d'>.\n"
     ]
    },
    {
     "data": {
      "text/plain": [
       "(0, 0)"
      ]
     },
     "execution_count": 19,
     "metadata": {},
     "output_type": "execute_result"
    }
   ],
   "source": [
    "profile(conv, inputs=(input,))\n"
   ]
  },
  {
   "cell_type": "code",
   "execution_count": 108,
   "metadata": {},
   "outputs": [],
   "source": [
    "class build_model(nn.Module):\n",
    "    def __init__(self):\n",
    "        super(build_model, self).__init__()\n",
    "        self.sigmoid = nn.Sigmoid()\n",
    "        self.relu = nn.ReLU(True)\n",
    "        \n",
    "#         self.conv = nn.Sequential(nn.Conv1d(in_channels=1024, out_channels=128, \n",
    "#                                           kernel_size=1, stride=1, padding=0,\n",
    "#                                          bias=False),\n",
    "#                                 nn.Conv2d(in_channels=512, out_channels=128,\n",
    "#                                          kernel_size=1, stride=1, padding=0,\n",
    "#                                          bias=False)\n",
    "#                              )\n",
    "        \n",
    "        self.L1 = nn.Linear(in_features=1024, out_features=128)\n",
    "#                 nn.ReLU(),\n",
    "        self.L2 = nn.Linear(in_features=128, out_features=1024)\n",
    "#                 nn.Sigmoid()            \n",
    "#         self.bn = nn.BatchNorm2d(128)\n",
    "#         self.relu = nn.ReLU(inplace=\n",
    "        \n",
    "    def forward(self, x):\n",
    "        x = self.L1(x)\n",
    "        x = self.L2(x)\n",
    "        return x"
   ]
  },
  {
   "cell_type": "code",
   "execution_count": 110,
   "metadata": {},
   "outputs": [
    {
     "name": "stdout",
     "output_type": "stream",
     "text": [
      "  -------------------------------------------------------\n",
      "  Model complexity with input size torch.Size([1, 1024])\n",
      "  -------------------------------------------------------\n",
      "  Linear (params=263,296, flops=263,296)\n",
      "  -------------------------------------------------------\n",
      "  Total (params=263,296, flops=263,296)\n",
      "  -------------------------------------------------------\n"
     ]
    }
   ],
   "source": [
    "input = torch.randn(1,1024)\n",
    "conv = build_model()\n",
    "num_params, flops = compute_model_complexity(conv, input.size(), verbose=True)"
   ]
  },
  {
   "cell_type": "code",
   "execution_count": 91,
   "metadata": {},
   "outputs": [
    {
     "name": "stdout",
     "output_type": "stream",
     "text": [
      "  -------------------------------------------------------\n",
      "  Model complexity with input size torch.Size([1, 1024, 16, 8])\n",
      "  -------------------------------------------------------\n",
      "  Conv2d (params=3,407,872, flops=436,207,616)\n",
      "  BatchNorm2d (params=4,096, flops=0)\n",
      "  ReLU (params=0, flops=0)\n",
      "  -------------------------------------------------------\n",
      "  Total (params=3,411,968, flops=436,207,616)\n",
      "  -------------------------------------------------------\n"
     ]
    }
   ],
   "source": [
    "num_params, flops = compute_model_complexity(conv, input.size(), verbose=True)"
   ]
  },
  {
   "cell_type": "markdown",
   "metadata": {},
   "source": [
    "# 计算推理时间"
   ]
  },
  {
   "cell_type": "code",
   "execution_count": 1,
   "metadata": {},
   "outputs": [
    {
     "name": "stdout",
     "output_type": "stream",
     "text": [
      "Loading pretrained ImageNet model ......\n",
      "Build down channel!\n",
      "Build 1 layer mutual spatial attention!\n",
      "Build 1 layer mutual channel attention!\n",
      "Build 1 layer appearance spatial attention!\n",
      "Build 1 layer appearacne channel attention!\n",
      "Build 2 layer mutual spatial attention!\n",
      "Build 2 layer mutual channel attention!\n",
      "Build 2 layer appearance spatial attention!\n",
      "Build 2 layer appearacne channel attention!\n",
      "Build 3 layer mutual spatial attention!\n",
      "Build 3 layer mutual channel attention!\n",
      "Build 3 layer appearance spatial attention!\n",
      "Build 3 layer appearacne channel attention!\n"
     ]
    }
   ],
   "source": [
    "import time \n",
    "import torch \n",
    "from torch import nn \n",
    "import models\n",
    "import os\n",
    "\n",
    "torch.manual_seed(999)\n",
    "os.environ['CUDA_VISIBLE_DEVICES'] = \"1\"\n",
    "\n",
    "model = models.init_model(name=\"STAM\", num_classes=625, pretrain_choice='imagenet',\n",
    "                          model_name='resnet50', seq_len = 8,\n",
    "                          layer_num=3,\n",
    "                          is_mutual_channel_attention='yes',\n",
    "                          is_mutual_spatial_attention='yes',\n",
    "                          is_appearance_channel_attention='yes',\n",
    "                          is_appearance_spatial_attention='yes',\n",
    "                          is_down_channel = 'yes',\n",
    "                          )"
   ]
  },
  {
   "cell_type": "code",
   "execution_count": 1,
   "metadata": {},
   "outputs": [],
   "source": [
    "import datetime\n",
    "import time \n",
    "import torch \n",
    "from torch import nn \n",
    "import models\n",
    "import os\n",
    "\n",
    "# model = nn.DataParallel(model)\n",
    "def main():\n",
    "    \n",
    "    torch.manual_seed(999)\n",
    "    os.environ['CUDA_VISIBLE_DEVICES'] = \"1\"\n",
    "\n",
    "    model = models.init_model(name='STAM', num_classes=625, pretrain_choice='imagenet',\n",
    "                          model_name='resnet50', seq_len = 8,\n",
    "                          layer_num=3,\n",
    "                          is_mutual_channel_attention='no',\n",
    "                          is_mutual_spatial_attention='no',\n",
    "                          is_appearance_channel_attention='no',\n",
    "                          is_appearance_spatial_attention='no',\n",
    "                          is_down_channel = 'yes',\n",
    "                          )\n",
    "    \n",
    "    model.cuda()\n",
    "    start_time = time.time()\n",
    "    with torch.no_grad():\n",
    "        model.eval()\n",
    "        for epoch in range(100):\n",
    "            input = torch.randn((128, 8, 3, 256, 128)).cuda()\n",
    "            feature_list = model(input, return_logits = True)\n",
    "\n",
    "    elapsed = round(time.time() - start_time)\n",
    "    elapsed = str(datetime.timedelta(seconds=elapsed))\n",
    "    print(\"Finished. Total elapsed time (h:m:s): {}\".format(elapsed))"
   ]
  },
  {
   "cell_type": "code",
   "execution_count": 2,
   "metadata": {},
   "outputs": [
    {
     "name": "stdout",
     "output_type": "stream",
     "text": [
      "Loading pretrained ImageNet model ......\n",
      "Build down channel!\n",
      "Finished. Total elapsed time (h:m:s): 0:02:35\n"
     ]
    }
   ],
   "source": [
    "if __name__ == '__main__':\n",
    "\n",
    "    main()"
   ]
  },
  {
   "cell_type": "code",
   "execution_count": null,
   "metadata": {},
   "outputs": [],
   "source": []
  },
  {
   "cell_type": "code",
   "execution_count": null,
   "metadata": {},
   "outputs": [],
   "source": []
  },
  {
   "cell_type": "code",
   "execution_count": null,
   "metadata": {},
   "outputs": [],
   "source": []
  },
  {
   "cell_type": "code",
   "execution_count": null,
   "metadata": {},
   "outputs": [],
   "source": []
  }
 ],
 "metadata": {
  "kernelspec": {
   "display_name": "Python 3",
   "language": "python",
   "name": "python3"
  },
  "language_info": {
   "codemirror_mode": {
    "name": "ipython",
    "version": 3
   },
   "file_extension": ".py",
   "mimetype": "text/x-python",
   "name": "python",
   "nbconvert_exporter": "python",
   "pygments_lexer": "ipython3",
   "version": "3.7.7"
  }
 },
 "nbformat": 4,
 "nbformat_minor": 4
}
